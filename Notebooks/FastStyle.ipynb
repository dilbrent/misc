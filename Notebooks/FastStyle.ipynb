{
 "cells": [
  {
   "cell_type": "code",
   "execution_count": 3,
   "metadata": {},
   "outputs": [
    {
     "name": "stdout",
     "output_type": "stream",
     "text": [
      "Init complete\n"
     ]
    }
   ],
   "source": [
    "# NOTE: For this to work the imagenet-vgg-verydeep-19.mat file must be in the folder with the notebook.\n",
    "# But it's large so I'm not checking it into git.\n",
    "# You will also want at least one of the corresponding checkpoints as well.\n",
    "# See: https://github.com/dilbrent/fast-style-transfer for info re: mat and ckpt files\n",
    "\n",
    "import sys\n",
    "sys.path.insert(0, 'src')\n",
    "from maininit import doTransfer\n",
    "print('Init complete')"
   ]
  },
  {
   "cell_type": "code",
   "execution_count": 4,
   "metadata": {},
   "outputs": [
    {
     "name": "stdout",
     "output_type": "stream",
     "text": [
      "Processing images of shape 488x338x3\n",
      "INFO:tensorflow:Restoring parameters from ../../fast-style-transfer/checkpoints/udnie.ckpt\n",
      "-rw-r--r-- 1 brent brent 28854 Jul 15 07:29 out/monacat.jpg\n",
      "Done\n"
     ]
    }
   ],
   "source": [
    "doTransfer(\"in\",\"out\",\"../../fast-style-transfer/checkpoints/udnie.ckpt\")\n",
    "!ls -al out/*.jpg\n",
    "print('Done')"
   ]
  },
  {
   "cell_type": "code",
   "execution_count": 5,
   "metadata": {},
   "outputs": [
    {
     "data": {
      "text/html": [
       "<img width='100' src='in/monacat.jpg'/> <img width='100' src='out/monacat.jpg'/>"
      ],
      "text/plain": [
       "<IPython.core.display.HTML object>"
      ]
     },
     "metadata": {},
     "output_type": "display_data"
    }
   ],
   "source": [
    "%%HTML\n",
    "<img width='100' src='in/monacat.jpg'/> <img width='100' src='out/monacat.jpg'/>"
   ]
  }
 ],
 "metadata": {
  "kernelspec": {
   "display_name": "Python 2",
   "language": "python",
   "name": "python2"
  },
  "language_info": {
   "codemirror_mode": {
    "name": "ipython",
    "version": 2
   },
   "file_extension": ".py",
   "mimetype": "text/x-python",
   "name": "python",
   "nbconvert_exporter": "python",
   "pygments_lexer": "ipython2",
   "version": "2.7.15rc1"
  }
 },
 "nbformat": 4,
 "nbformat_minor": 2
}
