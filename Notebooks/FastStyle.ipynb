{
 "cells": [
  {
   "cell_type": "code",
   "execution_count": 1,
   "metadata": {},
   "outputs": [
    {
     "name": "stdout",
     "output_type": "stream",
     "text": [
      "Init complete\n"
     ]
    }
   ],
   "source": [
    "# NOTE: For this to work the imagenet-vgg-verydeep-19.mat file must be in the folder with the notebook.\n",
    "# But it's large so I'm not checking it into git.\n",
    "# You will also want at least one of the corresponding checkpoints as well.\n",
    "# See: https://github.com/dilbrent/fast-style-transfer for info re: mat and ckpt files\n",
    "\n",
    "from __future__ import print_function\n",
    "import sys\n",
    "sys.path.insert(0, 'src')\n",
    "import numpy as np, pdb, os\n",
    "import maininit\n",
    "from utils import list_files\n",
    "\n",
    "BATCH_SIZE = 4\n",
    "DEVICE = '/gpu:0'\n",
    "\n",
    "def doTransfer(in_path,out_path,checkpoint_dir):\n",
    "    if not os.path.isdir(in_path):\n",
    "        if os.path.exists(out_path) and os.path.isdir(out_path):\n",
    "            out_path = \\\n",
    "                    os.path.join(out_path,os.path.basename(in_path))\n",
    "\n",
    "        ffwd_to_img(in_path, out_path, checkpoint_dir,\n",
    "                    device=DEVICE)\n",
    "    else:\n",
    "        files = list_files(in_path)\n",
    "        full_in = [os.path.join(in_path,x) for x in files]\n",
    "        full_out = [os.path.join(out_path,x) for x in files]\n",
    "        allow_different_dimensions=True\n",
    "        if allow_different_dimensions:\n",
    "            maininit.ffwd_different_dimensions(full_in, full_out, checkpoint_dir, \n",
    "                    device_t=DEVICE, batch_size=BATCH_SIZE)\n",
    "        else :\n",
    "            maininit.ffwd(full_in, full_out, checkpoint_dir, device_t=DEVICE,\n",
    "                    batch_size=BATCH_SIZE)\n",
    "\n",
    "print('Init complete')"
   ]
  },
  {
   "cell_type": "code",
   "execution_count": 2,
   "metadata": {},
   "outputs": [
    {
     "name": "stdout",
     "output_type": "stream",
     "text": [
      "Processing images of shape 488x338x3\n",
      "INFO:tensorflow:Restoring parameters from ../../fast-style-transfer/checkpoints/udnie.ckpt\n",
      "-rw-rw----. 1 root aid_sdcard_rw 28854 Jul 15 07:03 out/monacat.jpg\n",
      "Done\n"
     ]
    }
   ],
   "source": [
    "doTransfer(\"in\",\"out\",\"../../fast-style-transfer/checkpoints/udnie.ckpt\")\n",
    "!ls -al out/*.jpg\n",
    "print('Done')"
   ]
  },
  {
   "cell_type": "code",
   "execution_count": 3,
   "metadata": {},
   "outputs": [
    {
     "data": {
      "text/html": [
       "<img width='100' src='in/monacat.jpg'/> <img width='100' src='out/monacat.jpg'/>"
      ],
      "text/plain": [
       "<IPython.core.display.HTML object>"
      ]
     },
     "metadata": {},
     "output_type": "display_data"
    }
   ],
   "source": [
    "%%HTML\n",
    "<img width='100' src='in/monacat.jpg'/> <img width='100' src='out/monacat.jpg'/>"
   ]
  }
 ],
 "metadata": {
  "kernelspec": {
   "display_name": "Python 2",
   "language": "python",
   "name": "python2"
  },
  "language_info": {
   "codemirror_mode": {
    "name": "ipython",
    "version": 2
   },
   "file_extension": ".py",
   "mimetype": "text/x-python",
   "name": "python",
   "nbconvert_exporter": "python",
   "pygments_lexer": "ipython2",
   "version": "2.7.15rc1"
  }
 },
 "nbformat": 4,
 "nbformat_minor": 2
}
