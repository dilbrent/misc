{
 "cells": [
  {
   "cell_type": "code",
   "execution_count": 1,
   "metadata": {},
   "outputs": [
    {
     "name": "stdout",
     "output_type": "stream",
     "text": [
      "Linux kali 3.4.113-nethunter-klte-xx-3.0 #1 SMP PREEMPT Sat Sep 2 14:08:48 EDT 2017 armv7l armv7l armv7l GNU/Linux\n",
      "LSB Version:\tcore-9.20170808ubuntu1-noarch:security-9.20170808ubuntu1-noarch\n",
      "Distributor ID:\tUbuntu\n",
      "Description:\tUbuntu 18.04 LTS\n",
      "Release:\t18.04\n",
      "Codename:\tbionic\n",
      "TensorFlow version installed:\n",
      "1.9.0\n",
      " ______________________________\n",
      "< Tue Jul 17 08:48:38 PDT 2018 >\n",
      " ------------------------------\n",
      "        \\   ^__^\n",
      "         \\  (oo)\\_______\n",
      "            (__)\\       )\\/\\\n",
      "                ||----w |\n",
      "                ||     ||\n"
     ]
    }
   ],
   "source": [
    "!uname -a\n",
    "!lsb_release -a\n",
    "!echo TensorFlow version installed:\n",
    "!python -c 'import tensorflow as tf; print(tf.__version__)'\n",
    "!date | cowsay"
   ]
  }
 ],
 "metadata": {
  "kernelspec": {
   "display_name": "Python 2",
   "language": "python",
   "name": "python2"
  },
  "language_info": {
   "codemirror_mode": {
    "name": "ipython",
    "version": 2
   },
   "file_extension": ".py",
   "mimetype": "text/x-python",
   "name": "python",
   "nbconvert_exporter": "python",
   "pygments_lexer": "ipython2",
   "version": "2.7.15rc1"
  }
 },
 "nbformat": 4,
 "nbformat_minor": 2
}
