{
 "cells": [
  {
   "cell_type": "code",
   "execution_count": 2,
   "metadata": {},
   "outputs": [
    {
     "name": "stdout",
     "output_type": "stream",
     "text": [
      "Linux localhost 3.4.113-lineageos-g7018fbd #1 SMP PREEMPT Mon Jul 16 17:39:25 UTC 2018 armv7l armv7l armv7l GNU/Linux\n",
      "LSB Version:\tcore-9.20170808ubuntu1-noarch:security-9.20170808ubuntu1-noarch\n",
      "Distributor ID:\tUbuntu\n",
      "Description:\tUbuntu 18.04 LTS\n",
      "Release:\t18.04\n",
      "Codename:\tbionic\n",
      "TensorFlow version installed:\n",
      "1.9.0\n",
      "/bin/sh: 1: cowsay: not found\n",
      "date: write error: Broken pipe\n"
     ]
    }
   ],
   "source": [
    "!uname -a\n",
    "!lsb_release -a\n",
    "!echo TensorFlow version installed:\n",
    "!python3 -c 'import tensorflow as tf; print(tf.__version__)'\n",
    "!date | cowsay"
   ]
  }
 ],
 "metadata": {
  "kernelspec": {
   "display_name": "Python 2",
   "language": "python",
   "name": "python2"
  },
  "language_info": {
   "codemirror_mode": {
    "name": "ipython",
    "version": 3
   },
   "file_extension": ".py",
   "mimetype": "text/x-python",
   "name": "python",
   "nbconvert_exporter": "python",
   "pygments_lexer": "ipython3",
   "version": "3.6.5"
  }
 },
 "nbformat": 4,
 "nbformat_minor": 2
}
